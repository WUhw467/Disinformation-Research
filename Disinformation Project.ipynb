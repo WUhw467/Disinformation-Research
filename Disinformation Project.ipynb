{
 "cells": [
  {
   "cell_type": "code",
   "execution_count": 2,
   "id": "5f971354",
   "metadata": {},
   "outputs": [],
   "source": [
    "import pandas as pd\n",
    "import numpy as np\n",
    "import statistics\n",
    "import matplotlib.pyplot as plt\n",
    "import matplotlib.dates as mdates\n",
    "import seaborn as sns\n",
    "import re\n",
    "import researchpy as rp\n",
    "import scipy.stats as stats"
   ]
  },
  {
   "cell_type": "code",
   "execution_count": 3,
   "id": "0d72f8e7",
   "metadata": {},
   "outputs": [],
   "source": [
    "df = pd.read_csv('user_details_20210806.csv')"
   ]
  },
  {
   "cell_type": "code",
   "execution_count": 4,
   "id": "9a472235",
   "metadata": {
    "scrolled": true
   },
   "outputs": [
    {
     "data": {
      "text/html": [
       "<div>\n",
       "<style scoped>\n",
       "    .dataframe tbody tr th:only-of-type {\n",
       "        vertical-align: middle;\n",
       "    }\n",
       "\n",
       "    .dataframe tbody tr th {\n",
       "        vertical-align: top;\n",
       "    }\n",
       "\n",
       "    .dataframe thead th {\n",
       "        text-align: right;\n",
       "    }\n",
       "</style>\n",
       "<table border=\"1\" class=\"dataframe\">\n",
       "  <thead>\n",
       "    <tr style=\"text-align: right;\">\n",
       "      <th></th>\n",
       "      <th>user_id</th>\n",
       "      <th>created_on</th>\n",
       "      <th>screen_name_count</th>\n",
       "      <th>screen_names</th>\n",
       "      <th>is_bot</th>\n",
       "      <th>bot_rt_network</th>\n",
       "      <th>is_q</th>\n",
       "      <th>q_status_count</th>\n",
       "      <th>status_count</th>\n",
       "      <th>rt_count</th>\n",
       "      <th>...</th>\n",
       "      <th>friend_count_b</th>\n",
       "      <th>friend_count_h</th>\n",
       "      <th>avg_toxicity</th>\n",
       "      <th>avg_severe_toxicity</th>\n",
       "      <th>avg_insult</th>\n",
       "      <th>avg_obscene</th>\n",
       "      <th>avg_threat</th>\n",
       "      <th>avg_identity_hate</th>\n",
       "      <th>fact_scored_count</th>\n",
       "      <th>avg_fact_score</th>\n",
       "    </tr>\n",
       "  </thead>\n",
       "  <tbody>\n",
       "    <tr>\n",
       "      <th>0</th>\n",
       "      <td>1201029281482235904</td>\n",
       "      <td>2019-12-01</td>\n",
       "      <td>1</td>\n",
       "      <td>HARRIETSUSAN4</td>\n",
       "      <td>False</td>\n",
       "      <td>NaN</td>\n",
       "      <td>False</td>\n",
       "      <td>NaN</td>\n",
       "      <td>18</td>\n",
       "      <td>16</td>\n",
       "      <td>...</td>\n",
       "      <td>6.0</td>\n",
       "      <td>337.0</td>\n",
       "      <td>0.050687</td>\n",
       "      <td>0.000232</td>\n",
       "      <td>0.002113</td>\n",
       "      <td>0.001177</td>\n",
       "      <td>0.000461</td>\n",
       "      <td>0.003759</td>\n",
       "      <td>0</td>\n",
       "      <td>NaN</td>\n",
       "    </tr>\n",
       "    <tr>\n",
       "      <th>1</th>\n",
       "      <td>337091850</td>\n",
       "      <td>2011-07-17</td>\n",
       "      <td>1</td>\n",
       "      <td>SUSANMMRAZ</td>\n",
       "      <td>False</td>\n",
       "      <td>NaN</td>\n",
       "      <td>False</td>\n",
       "      <td>NaN</td>\n",
       "      <td>105</td>\n",
       "      <td>80</td>\n",
       "      <td>...</td>\n",
       "      <td>120.0</td>\n",
       "      <td>1622.0</td>\n",
       "      <td>0.115957</td>\n",
       "      <td>0.001983</td>\n",
       "      <td>0.058983</td>\n",
       "      <td>0.049420</td>\n",
       "      <td>0.000667</td>\n",
       "      <td>0.004879</td>\n",
       "      <td>2</td>\n",
       "      <td>3.892857</td>\n",
       "    </tr>\n",
       "    <tr>\n",
       "      <th>2</th>\n",
       "      <td>2370334990</td>\n",
       "      <td>2014-02-28</td>\n",
       "      <td>1</td>\n",
       "      <td>EDDIETHUNDER44</td>\n",
       "      <td>False</td>\n",
       "      <td>NaN</td>\n",
       "      <td>False</td>\n",
       "      <td>NaN</td>\n",
       "      <td>35</td>\n",
       "      <td>15</td>\n",
       "      <td>...</td>\n",
       "      <td>95.0</td>\n",
       "      <td>1666.0</td>\n",
       "      <td>0.129561</td>\n",
       "      <td>0.008591</td>\n",
       "      <td>0.058599</td>\n",
       "      <td>0.039499</td>\n",
       "      <td>0.009718</td>\n",
       "      <td>0.004566</td>\n",
       "      <td>0</td>\n",
       "      <td>NaN</td>\n",
       "    </tr>\n",
       "    <tr>\n",
       "      <th>3</th>\n",
       "      <td>858913836</td>\n",
       "      <td>2012-10-03</td>\n",
       "      <td>1</td>\n",
       "      <td>RICHARDCRESSE</td>\n",
       "      <td>True</td>\n",
       "      <td>NaN</td>\n",
       "      <td>True</td>\n",
       "      <td>1.0</td>\n",
       "      <td>700</td>\n",
       "      <td>681</td>\n",
       "      <td>...</td>\n",
       "      <td>78.0</td>\n",
       "      <td>425.0</td>\n",
       "      <td>0.063513</td>\n",
       "      <td>0.000393</td>\n",
       "      <td>0.015775</td>\n",
       "      <td>0.012956</td>\n",
       "      <td>0.000578</td>\n",
       "      <td>0.001460</td>\n",
       "      <td>8</td>\n",
       "      <td>1.625000</td>\n",
       "    </tr>\n",
       "    <tr>\n",
       "      <th>4</th>\n",
       "      <td>622750531</td>\n",
       "      <td>2012-06-30</td>\n",
       "      <td>1</td>\n",
       "      <td>YERBOUTISHEIK</td>\n",
       "      <td>False</td>\n",
       "      <td>NaN</td>\n",
       "      <td>False</td>\n",
       "      <td>NaN</td>\n",
       "      <td>184</td>\n",
       "      <td>154</td>\n",
       "      <td>...</td>\n",
       "      <td>93.0</td>\n",
       "      <td>1520.0</td>\n",
       "      <td>0.120060</td>\n",
       "      <td>0.005381</td>\n",
       "      <td>0.050481</td>\n",
       "      <td>0.064212</td>\n",
       "      <td>0.002673</td>\n",
       "      <td>0.003119</td>\n",
       "      <td>1</td>\n",
       "      <td>2.642857</td>\n",
       "    </tr>\n",
       "    <tr>\n",
       "      <th>...</th>\n",
       "      <td>...</td>\n",
       "      <td>...</td>\n",
       "      <td>...</td>\n",
       "      <td>...</td>\n",
       "      <td>...</td>\n",
       "      <td>...</td>\n",
       "      <td>...</td>\n",
       "      <td>...</td>\n",
       "      <td>...</td>\n",
       "      <td>...</td>\n",
       "      <td>...</td>\n",
       "      <td>...</td>\n",
       "      <td>...</td>\n",
       "      <td>...</td>\n",
       "      <td>...</td>\n",
       "      <td>...</td>\n",
       "      <td>...</td>\n",
       "      <td>...</td>\n",
       "      <td>...</td>\n",
       "      <td>...</td>\n",
       "      <td>...</td>\n",
       "    </tr>\n",
       "    <tr>\n",
       "      <th>3600540</th>\n",
       "      <td>1539138800</td>\n",
       "      <td>2013-06-22</td>\n",
       "      <td>1</td>\n",
       "      <td>RYDERPMR</td>\n",
       "      <td>False</td>\n",
       "      <td>NaN</td>\n",
       "      <td>False</td>\n",
       "      <td>NaN</td>\n",
       "      <td>12</td>\n",
       "      <td>12</td>\n",
       "      <td>...</td>\n",
       "      <td>2.0</td>\n",
       "      <td>87.0</td>\n",
       "      <td>0.038260</td>\n",
       "      <td>0.000205</td>\n",
       "      <td>0.001591</td>\n",
       "      <td>0.001431</td>\n",
       "      <td>0.000299</td>\n",
       "      <td>0.003800</td>\n",
       "      <td>0</td>\n",
       "      <td>NaN</td>\n",
       "    </tr>\n",
       "    <tr>\n",
       "      <th>3600541</th>\n",
       "      <td>54455239</td>\n",
       "      <td>2009-07-07</td>\n",
       "      <td>1</td>\n",
       "      <td>JANNNATE</td>\n",
       "      <td>False</td>\n",
       "      <td>NaN</td>\n",
       "      <td>False</td>\n",
       "      <td>NaN</td>\n",
       "      <td>12</td>\n",
       "      <td>12</td>\n",
       "      <td>...</td>\n",
       "      <td>10.0</td>\n",
       "      <td>436.0</td>\n",
       "      <td>0.081213</td>\n",
       "      <td>0.000230</td>\n",
       "      <td>0.013944</td>\n",
       "      <td>0.002908</td>\n",
       "      <td>0.000245</td>\n",
       "      <td>0.002467</td>\n",
       "      <td>0</td>\n",
       "      <td>NaN</td>\n",
       "    </tr>\n",
       "    <tr>\n",
       "      <th>3600542</th>\n",
       "      <td>865572195086606336</td>\n",
       "      <td>2017-05-19</td>\n",
       "      <td>1</td>\n",
       "      <td>ONECABLE25</td>\n",
       "      <td>False</td>\n",
       "      <td>NaN</td>\n",
       "      <td>False</td>\n",
       "      <td>NaN</td>\n",
       "      <td>12</td>\n",
       "      <td>12</td>\n",
       "      <td>...</td>\n",
       "      <td>6.0</td>\n",
       "      <td>145.0</td>\n",
       "      <td>0.023700</td>\n",
       "      <td>0.000158</td>\n",
       "      <td>0.000568</td>\n",
       "      <td>0.000679</td>\n",
       "      <td>0.000669</td>\n",
       "      <td>0.000523</td>\n",
       "      <td>0</td>\n",
       "      <td>NaN</td>\n",
       "    </tr>\n",
       "    <tr>\n",
       "      <th>3600543</th>\n",
       "      <td>1107399188676034561</td>\n",
       "      <td>2019-03-17</td>\n",
       "      <td>2</td>\n",
       "      <td>MORTALDOOMBAT | MORTALFNDOOMBAT</td>\n",
       "      <td>False</td>\n",
       "      <td>NaN</td>\n",
       "      <td>False</td>\n",
       "      <td>NaN</td>\n",
       "      <td>14</td>\n",
       "      <td>12</td>\n",
       "      <td>...</td>\n",
       "      <td>0.0</td>\n",
       "      <td>8.0</td>\n",
       "      <td>0.087837</td>\n",
       "      <td>0.001984</td>\n",
       "      <td>0.022834</td>\n",
       "      <td>0.056990</td>\n",
       "      <td>0.001484</td>\n",
       "      <td>0.003296</td>\n",
       "      <td>0</td>\n",
       "      <td>NaN</td>\n",
       "    </tr>\n",
       "    <tr>\n",
       "      <th>3600544</th>\n",
       "      <td>919663080</td>\n",
       "      <td>2012-11-01</td>\n",
       "      <td>1</td>\n",
       "      <td>LAZCHANCETV</td>\n",
       "      <td>False</td>\n",
       "      <td>NaN</td>\n",
       "      <td>False</td>\n",
       "      <td>NaN</td>\n",
       "      <td>95</td>\n",
       "      <td>12</td>\n",
       "      <td>...</td>\n",
       "      <td>8.0</td>\n",
       "      <td>251.0</td>\n",
       "      <td>0.225321</td>\n",
       "      <td>0.030368</td>\n",
       "      <td>0.119028</td>\n",
       "      <td>0.148836</td>\n",
       "      <td>0.005038</td>\n",
       "      <td>0.004728</td>\n",
       "      <td>1</td>\n",
       "      <td>2.428571</td>\n",
       "    </tr>\n",
       "  </tbody>\n",
       "</table>\n",
       "<p>3600545 rows × 28 columns</p>\n",
       "</div>"
      ],
      "text/plain": [
       "                     user_id  created_on  screen_name_count  \\\n",
       "0        1201029281482235904  2019-12-01                  1   \n",
       "1                  337091850  2011-07-17                  1   \n",
       "2                 2370334990  2014-02-28                  1   \n",
       "3                  858913836  2012-10-03                  1   \n",
       "4                  622750531  2012-06-30                  1   \n",
       "...                      ...         ...                ...   \n",
       "3600540           1539138800  2013-06-22                  1   \n",
       "3600541             54455239  2009-07-07                  1   \n",
       "3600542   865572195086606336  2017-05-19                  1   \n",
       "3600543  1107399188676034561  2019-03-17                  2   \n",
       "3600544            919663080  2012-11-01                  1   \n",
       "\n",
       "                            screen_names  is_bot  bot_rt_network   is_q  \\\n",
       "0                          HARRIETSUSAN4   False             NaN  False   \n",
       "1                             SUSANMMRAZ   False             NaN  False   \n",
       "2                         EDDIETHUNDER44   False             NaN  False   \n",
       "3                          RICHARDCRESSE    True             NaN   True   \n",
       "4                          YERBOUTISHEIK   False             NaN  False   \n",
       "...                                  ...     ...             ...    ...   \n",
       "3600540                         RYDERPMR   False             NaN  False   \n",
       "3600541                         JANNNATE   False             NaN  False   \n",
       "3600542                       ONECABLE25   False             NaN  False   \n",
       "3600543  MORTALDOOMBAT | MORTALFNDOOMBAT   False             NaN  False   \n",
       "3600544                      LAZCHANCETV   False             NaN  False   \n",
       "\n",
       "         q_status_count  status_count  rt_count  ...  friend_count_b  \\\n",
       "0                   NaN            18        16  ...             6.0   \n",
       "1                   NaN           105        80  ...           120.0   \n",
       "2                   NaN            35        15  ...            95.0   \n",
       "3                   1.0           700       681  ...            78.0   \n",
       "4                   NaN           184       154  ...            93.0   \n",
       "...                 ...           ...       ...  ...             ...   \n",
       "3600540             NaN            12        12  ...             2.0   \n",
       "3600541             NaN            12        12  ...            10.0   \n",
       "3600542             NaN            12        12  ...             6.0   \n",
       "3600543             NaN            14        12  ...             0.0   \n",
       "3600544             NaN            95        12  ...             8.0   \n",
       "\n",
       "         friend_count_h  avg_toxicity  avg_severe_toxicity  avg_insult  \\\n",
       "0                 337.0      0.050687             0.000232    0.002113   \n",
       "1                1622.0      0.115957             0.001983    0.058983   \n",
       "2                1666.0      0.129561             0.008591    0.058599   \n",
       "3                 425.0      0.063513             0.000393    0.015775   \n",
       "4                1520.0      0.120060             0.005381    0.050481   \n",
       "...                 ...           ...                  ...         ...   \n",
       "3600540            87.0      0.038260             0.000205    0.001591   \n",
       "3600541           436.0      0.081213             0.000230    0.013944   \n",
       "3600542           145.0      0.023700             0.000158    0.000568   \n",
       "3600543             8.0      0.087837             0.001984    0.022834   \n",
       "3600544           251.0      0.225321             0.030368    0.119028   \n",
       "\n",
       "         avg_obscene  avg_threat  avg_identity_hate  fact_scored_count  \\\n",
       "0           0.001177    0.000461           0.003759                  0   \n",
       "1           0.049420    0.000667           0.004879                  2   \n",
       "2           0.039499    0.009718           0.004566                  0   \n",
       "3           0.012956    0.000578           0.001460                  8   \n",
       "4           0.064212    0.002673           0.003119                  1   \n",
       "...              ...         ...                ...                ...   \n",
       "3600540     0.001431    0.000299           0.003800                  0   \n",
       "3600541     0.002908    0.000245           0.002467                  0   \n",
       "3600542     0.000679    0.000669           0.000523                  0   \n",
       "3600543     0.056990    0.001484           0.003296                  0   \n",
       "3600544     0.148836    0.005038           0.004728                  1   \n",
       "\n",
       "         avg_fact_score  \n",
       "0                   NaN  \n",
       "1              3.892857  \n",
       "2                   NaN  \n",
       "3              1.625000  \n",
       "4              2.642857  \n",
       "...                 ...  \n",
       "3600540             NaN  \n",
       "3600541             NaN  \n",
       "3600542             NaN  \n",
       "3600543             NaN  \n",
       "3600544        2.428571  \n",
       "\n",
       "[3600545 rows x 28 columns]"
      ]
     },
     "execution_count": 4,
     "metadata": {},
     "output_type": "execute_result"
    }
   ],
   "source": [
    "df"
   ]
  },
  {
   "cell_type": "code",
   "execution_count": 5,
   "id": "dc678cb8",
   "metadata": {},
   "outputs": [],
   "source": [
    "Date = df['created_on']"
   ]
  },
  {
   "cell_type": "code",
   "execution_count": 6,
   "id": "97bea1f0",
   "metadata": {},
   "outputs": [],
   "source": [
    "Year = Date.str.split('-',expand = True)[0]\n",
    "Year = Year.to_frame()\n",
    "Year.columns = ['Year']\n",
    "count = Year.groupby('Year').size()\n",
    "count = count.to_frame().reset_index(drop = False)\n",
    "count.columns = ['Year','Count']"
   ]
  },
  {
   "cell_type": "code",
   "execution_count": 35,
   "id": "5bb2f64d",
   "metadata": {},
   "outputs": [
    {
     "data": {
      "image/png": "[encoded data removed]",
      "text/plain": [
       "<Figure size 432x288 with 1 Axes>"
      ]
     },
     "metadata": {},
     "output_type": "display_data"
    }
   ],
   "source": [
    "bar, ax = plt.subplots()\n",
    "sns.set_style(\"dark\")\n",
    "sns.despine()\n",
    "ax = sns.barplot(x='Year',y='Count', data = count)\n",
    "plt.xticks(rotation = 45)\n",
    "plt.show()"
   ]
  },
  {
   "cell_type": "markdown",
   "id": "fcebfcf6",
   "metadata": {},
   "source": [
    "Year = Date.str.split('-',expand = True)[0]\n",
    "Year = Year.astype(\"datetime64\")"
   ]
  },
  {
   "cell_type": "markdown",
   "id": "2b59f2d3",
   "metadata": {},
   "source": [
    "Year.groupby(Year.dt.year).count().plot(kind=\"bar\")"
   ]
  },
  {
   "cell_type": "markdown",
   "id": "81034d83",
   "metadata": {},
   "source": [
    "According to the plot, most of the accounts are created at 2019"
   ]
  },
  {
   "cell_type": "code",
   "execution_count": 8,
   "id": "2b768e0b",
   "metadata": {},
   "outputs": [],
   "source": [
    "df2 = df[df['is_bot'] == True]"
   ]
  },
  {
   "cell_type": "code",
   "execution_count": 9,
   "id": "86896c44",
   "metadata": {},
   "outputs": [
    {
     "data": {
      "text/html": [
       "<div>\n",
       "<style scoped>\n",
       "    .dataframe tbody tr th:only-of-type {\n",
       "        vertical-align: middle;\n",
       "    }\n",
       "\n",
       "    .dataframe tbody tr th {\n",
       "        vertical-align: top;\n",
       "    }\n",
       "\n",
       "    .dataframe thead th {\n",
       "        text-align: right;\n",
       "    }\n",
       "</style>\n",
       "<table border=\"1\" class=\"dataframe\">\n",
       "  <thead>\n",
       "    <tr style=\"text-align: right;\">\n",
       "      <th></th>\n",
       "      <th>attitude</th>\n",
       "      <th>count</th>\n",
       "    </tr>\n",
       "  </thead>\n",
       "  <tbody>\n",
       "    <tr>\n",
       "      <th>0</th>\n",
       "      <td>anti-trump</td>\n",
       "      <td>10145</td>\n",
       "    </tr>\n",
       "    <tr>\n",
       "      <th>1</th>\n",
       "      <td>pro-trump</td>\n",
       "      <td>14005</td>\n",
       "    </tr>\n",
       "  </tbody>\n",
       "</table>\n",
       "</div>"
      ],
      "text/plain": [
       "     attitude  count\n",
       "0  anti-trump  10145\n",
       "1   pro-trump  14005"
      ]
     },
     "execution_count": 9,
     "metadata": {},
     "output_type": "execute_result"
    }
   ],
   "source": [
    "num = df2.groupby(df2['opinion_community']).size().to_frame().reset_index()\n",
    "num.columns = ['attitude', 'count']\n",
    "num['attitude'] = ['anti-trump','pro-trump']\n",
    "num"
   ]
  },
  {
   "cell_type": "code",
   "execution_count": 10,
   "id": "a2dafef6",
   "metadata": {},
   "outputs": [
    {
     "data": {
      "image/png": "[encoded data removed]",
      "text/plain": [
       "<Figure size 432x288 with 1 Axes>"
      ]
     },
     "metadata": {},
     "output_type": "display_data"
    }
   ],
   "source": [
    "bar, ax = plt.subplots()\n",
    "sns.set_style(\"dark\")\n",
    "sns.despine()\n",
    "ax = sns.barplot(x='attitude',y='count', data = num)\n",
    "plt.show()"
   ]
  },
  {
   "cell_type": "markdown",
   "id": "03ce61c7",
   "metadata": {},
   "source": [
    "According to the plot, most of the bots are anti-trump"
   ]
  },
  {
   "cell_type": "code",
   "execution_count": 13,
   "id": "272896fa",
   "metadata": {},
   "outputs": [],
   "source": [
    "pro = df2[df2['opinion_community'] == 1]\n",
    "anti = df2[df2['opinion_community'] == 0]"
   ]
  },
  {
   "cell_type": "code",
   "execution_count": 14,
   "id": "71f254b6",
   "metadata": {},
   "outputs": [
    {
     "data": {
      "text/html": [
       "<div>\n",
       "<style scoped>\n",
       "    .dataframe tbody tr th:only-of-type {\n",
       "        vertical-align: middle;\n",
       "    }\n",
       "\n",
       "    .dataframe tbody tr th {\n",
       "        vertical-align: top;\n",
       "    }\n",
       "\n",
       "    .dataframe thead th {\n",
       "        text-align: right;\n",
       "    }\n",
       "</style>\n",
       "<table border=\"1\" class=\"dataframe\">\n",
       "  <thead>\n",
       "    <tr style=\"text-align: right;\">\n",
       "      <th></th>\n",
       "      <th>pro</th>\n",
       "      <th>anti</th>\n",
       "    </tr>\n",
       "  </thead>\n",
       "  <tbody>\n",
       "    <tr>\n",
       "      <th>0</th>\n",
       "      <td>14005</td>\n",
       "      <td>10145</td>\n",
       "    </tr>\n",
       "  </tbody>\n",
       "</table>\n",
       "</div>"
      ],
      "text/plain": [
       "     pro   anti\n",
       "0  14005  10145"
      ]
     },
     "execution_count": 14,
     "metadata": {},
     "output_type": "execute_result"
    }
   ],
   "source": [
    "bots = pd.DataFrame(data = {'pro':[len(pro)], 'anti':[len(anti)]})\n",
    "bots"
   ]
  },
  {
   "cell_type": "markdown",
   "id": "aafdf6b0",
   "metadata": {},
   "source": [
    "According to the df, pro-trump bots are more than anti-trump bots"
   ]
  },
  {
   "cell_type": "code",
   "execution_count": 15,
   "id": "07fe20ac",
   "metadata": {},
   "outputs": [],
   "source": [
    "pro_Date = pro['created_on']\n",
    "pro_Year = pro_Date.str.split('-',expand = True)[0].to_frame()\n",
    "pro_Year.columns = ['Year']\n",
    "pro_count = pro_Year.groupby(pro_Year['Year']).size().to_frame().reset_index()"
   ]
  },
  {
   "cell_type": "code",
   "execution_count": 16,
   "id": "a6b9c8cc",
   "metadata": {},
   "outputs": [],
   "source": [
    "pro_count.columns = ['Year','pro_count']"
   ]
  },
  {
   "cell_type": "code",
   "execution_count": 17,
   "id": "570c009c",
   "metadata": {},
   "outputs": [
    {
     "data": {
      "text/html": [
       "<div>\n",
       "<style scoped>\n",
       "    .dataframe tbody tr th:only-of-type {\n",
       "        vertical-align: middle;\n",
       "    }\n",
       "\n",
       "    .dataframe tbody tr th {\n",
       "        vertical-align: top;\n",
       "    }\n",
       "\n",
       "    .dataframe thead th {\n",
       "        text-align: right;\n",
       "    }\n",
       "</style>\n",
       "<table border=\"1\" class=\"dataframe\">\n",
       "  <thead>\n",
       "    <tr style=\"text-align: right;\">\n",
       "      <th></th>\n",
       "      <th>Year</th>\n",
       "      <th>pro_count</th>\n",
       "    </tr>\n",
       "  </thead>\n",
       "  <tbody>\n",
       "    <tr>\n",
       "      <th>0</th>\n",
       "      <td>2007</td>\n",
       "      <td>13</td>\n",
       "    </tr>\n",
       "    <tr>\n",
       "      <th>1</th>\n",
       "      <td>2008</td>\n",
       "      <td>196</td>\n",
       "    </tr>\n",
       "    <tr>\n",
       "      <th>2</th>\n",
       "      <td>2009</td>\n",
       "      <td>1252</td>\n",
       "    </tr>\n",
       "    <tr>\n",
       "      <th>3</th>\n",
       "      <td>2010</td>\n",
       "      <td>552</td>\n",
       "    </tr>\n",
       "    <tr>\n",
       "      <th>4</th>\n",
       "      <td>2011</td>\n",
       "      <td>897</td>\n",
       "    </tr>\n",
       "    <tr>\n",
       "      <th>5</th>\n",
       "      <td>2012</td>\n",
       "      <td>1187</td>\n",
       "    </tr>\n",
       "    <tr>\n",
       "      <th>6</th>\n",
       "      <td>2013</td>\n",
       "      <td>826</td>\n",
       "    </tr>\n",
       "    <tr>\n",
       "      <th>7</th>\n",
       "      <td>2014</td>\n",
       "      <td>752</td>\n",
       "    </tr>\n",
       "    <tr>\n",
       "      <th>8</th>\n",
       "      <td>2015</td>\n",
       "      <td>1027</td>\n",
       "    </tr>\n",
       "    <tr>\n",
       "      <th>9</th>\n",
       "      <td>2016</td>\n",
       "      <td>1767</td>\n",
       "    </tr>\n",
       "    <tr>\n",
       "      <th>10</th>\n",
       "      <td>2017</td>\n",
       "      <td>1944</td>\n",
       "    </tr>\n",
       "    <tr>\n",
       "      <th>11</th>\n",
       "      <td>2018</td>\n",
       "      <td>1375</td>\n",
       "    </tr>\n",
       "    <tr>\n",
       "      <th>12</th>\n",
       "      <td>2019</td>\n",
       "      <td>1897</td>\n",
       "    </tr>\n",
       "    <tr>\n",
       "      <th>13</th>\n",
       "      <td>2020</td>\n",
       "      <td>320</td>\n",
       "    </tr>\n",
       "  </tbody>\n",
       "</table>\n",
       "</div>"
      ],
      "text/plain": [
       "    Year  pro_count\n",
       "0   2007         13\n",
       "1   2008        196\n",
       "2   2009       1252\n",
       "3   2010        552\n",
       "4   2011        897\n",
       "5   2012       1187\n",
       "6   2013        826\n",
       "7   2014        752\n",
       "8   2015       1027\n",
       "9   2016       1767\n",
       "10  2017       1944\n",
       "11  2018       1375\n",
       "12  2019       1897\n",
       "13  2020        320"
      ]
     },
     "execution_count": 17,
     "metadata": {},
     "output_type": "execute_result"
    }
   ],
   "source": [
    "pro_count"
   ]
  },
  {
   "cell_type": "code",
   "execution_count": 18,
   "id": "40c2a96f",
   "metadata": {},
   "outputs": [
    {
     "data": {
      "image/png": "[encoded data removed]",
      "text/plain": [
       "<Figure size 432x288 with 1 Axes>"
      ]
     },
     "metadata": {},
     "output_type": "display_data"
    }
   ],
   "source": [
    "bar, ax = plt.subplots()\n",
    "sns.set_style(\"dark\")\n",
    "sns.despine()\n",
    "ax = sns.barplot(x='Year',y='pro_count', data = pro_count)\n",
    "plt.show()"
   ]
  },
  {
   "cell_type": "code",
   "execution_count": 19,
   "id": "03c61a3b",
   "metadata": {},
   "outputs": [],
   "source": [
    "anti_Date = anti['created_on']\n",
    "anti_Year = anti_Date.str.split('-',expand = True)[0].to_frame()\n",
    "anti_Year.columns = ['Year']\n",
    "anti_count = anti_Year.groupby(anti_Year['Year']).size().to_frame().reset_index()\n",
    "anti_count.columns = ['Year','anti_count']"
   ]
  },
  {
   "cell_type": "code",
   "execution_count": 20,
   "id": "2626aeda",
   "metadata": {},
   "outputs": [
    {
     "data": {
      "image/png": "[encoded data removed]",
      "text/plain": [
       "<Figure size 432x288 with 1 Axes>"
      ]
     },
     "metadata": {},
     "output_type": "display_data"
    }
   ],
   "source": [
    "bar, ax = plt.subplots()\n",
    "sns.set_style(\"dark\")\n",
    "sns.despine()\n",
    "ax = sns.barplot(x='Year',y='anti_count', data = anti_count)\n",
    "plt.show()"
   ]
  },
  {
   "cell_type": "code",
   "execution_count": 25,
   "id": "ec1bee91",
   "metadata": {},
   "outputs": [
    {
     "data": {
      "image/png": "[encoded data removed]",
      "text/plain": [
       "<Figure size 432x288 with 1 Axes>"
      ]
     },
     "metadata": {},
     "output_type": "display_data"
    }
   ],
   "source": [
    "mean_follower = df2.groupby(['opinion_community'])['follower_count'].mean().to_frame().reset_index()\n",
    "mean_follower.columns = ['attitude','mean_follower_count']\n",
    "mean_follower['attitude'] = ['anti','pro']\n",
    "bar, ax = plt.subplots()\n",
    "sns.set_style(\"dark\")\n",
    "sns.despine()\n",
    "ax = sns.barplot(x='attitude',y='mean_follower_count', data = mean_follower)\n",
    "plt.show()"
   ]
  },
  {
   "cell_type": "markdown",
   "id": "d27201be",
   "metadata": {},
   "source": [
    "According to the result, we can see that pro-trump bot has more follower than anti-trump bot on average"
   ]
  },
  {
   "cell_type": "code",
   "execution_count": 26,
   "id": "0a869dd3",
   "metadata": {},
   "outputs": [
    {
     "data": {
      "text/html": [
       "<div>\n",
       "<style scoped>\n",
       "    .dataframe tbody tr th:only-of-type {\n",
       "        vertical-align: middle;\n",
       "    }\n",
       "\n",
       "    .dataframe tbody tr th {\n",
       "        vertical-align: top;\n",
       "    }\n",
       "\n",
       "    .dataframe thead th {\n",
       "        text-align: right;\n",
       "    }\n",
       "</style>\n",
       "<table border=\"1\" class=\"dataframe\">\n",
       "  <thead>\n",
       "    <tr style=\"text-align: right;\">\n",
       "      <th></th>\n",
       "      <th>pro</th>\n",
       "      <th>anti</th>\n",
       "    </tr>\n",
       "  </thead>\n",
       "  <tbody>\n",
       "    <tr>\n",
       "      <th>0</th>\n",
       "      <td>0.068034</td>\n",
       "      <td>0.046251</td>\n",
       "    </tr>\n",
       "  </tbody>\n",
       "</table>\n",
       "</div>"
      ],
      "text/plain": [
       "        pro      anti\n",
       "0  0.068034  0.046251"
      ]
     },
     "execution_count": 26,
     "metadata": {},
     "output_type": "execute_result"
    }
   ],
   "source": [
    "pro_follower = pro[pro['follower_count'] > 0]\n",
    "pro_bot_fol_avg = statistics.mean(pro_follower['follower_count_b']/pro_follower['follower_count'])\n",
    "anti_follower = anti[anti['follower_count'] > 0]\n",
    "anti_bot_fol_avg = statistics.mean(anti_follower['follower_count_b']/anti_follower['follower_count'])\n",
    "bot_fol_avg = pd.DataFrame({'pro':[pro_bot_fol_avg],'anti':[anti_bot_fol_avg]})\n",
    "bot_fol_avg"
   ]
  },
  {
   "cell_type": "code",
   "execution_count": 27,
   "id": "65f81c25",
   "metadata": {},
   "outputs": [
    {
     "data": {
      "image/png": "[encoded data removed]",
      "text/plain": [
       "<Figure size 432x288 with 1 Axes>"
      ]
     },
     "metadata": {},
     "output_type": "display_data"
    }
   ],
   "source": [
    "bar, ax = plt.subplots()\n",
    "sns.set_style(\"dark\")\n",
    "sns.despine()\n",
    "my_list=list(bot_fol_avg.columns)\n",
    "percentage = bot_fol_avg.sum()\n",
    "ax.bar(my_list, percentage)\n",
    "plt.show()"
   ]
  },
  {
   "cell_type": "markdown",
   "id": "c758cab8",
   "metadata": {},
   "source": [
    "According to the graph, the average of percentage of number of bot follower of pro-trump bot is higher than anti-trump bot. But the difference is not very big and the percentage is very small which means most of followers are real human."
   ]
  },
  {
   "cell_type": "code",
   "execution_count": 28,
   "id": "52a05229",
   "metadata": {},
   "outputs": [
    {
     "data": {
      "image/png": "[encoded data removed]",
      "text/plain": [
       "<Figure size 432x288 with 1 Axes>"
      ]
     },
     "metadata": {},
     "output_type": "display_data"
    }
   ],
   "source": [
    "pro_links = statistics.mean(pro[pro['avg_fact_score'] > 0]['avg_fact_score'])\n",
    "anti_links = statistics.mean(anti[anti['avg_fact_score'] > 0]['avg_fact_score'])\n",
    "links_df = pd.DataFrame({'attitude':['pro','anti'],'score':[pro_links, anti_links]})\n",
    "bar, ax = plt.subplots()\n",
    "sns.set_style(\"dark\")\n",
    "sns.despine()\n",
    "ax = sns.barplot(x='attitude',y='score', data = links_df)\n",
    "plt.show()"
   ]
  },
  {
   "cell_type": "code",
   "execution_count": 29,
   "id": "8c883c4a",
   "metadata": {},
   "outputs": [
    {
     "data": {
      "image/png": "[encoded data removed]",
      "text/plain": [
       "<Figure size 432x288 with 1 Axes>"
      ]
     },
     "metadata": {},
     "output_type": "display_data"
    }
   ],
   "source": [
    "import matplotlib.pyplot as plt\n",
    " \n",
    "x = [1,1,2,3,3,5,7,8,9,10,\n",
    "     10,11,11,13,13,15,16,17,18,18,\n",
    "     18,19,20,21,21,23,24,24,25,25,\n",
    "     25,25,26,26,26,27,27,27,27,27,\n",
    "     29,30,30,31,33,34,34,34,35,36,\n",
    "     36,37,37,38,38,39,40,41,41,42,\n",
    "     43,44,45,45,46,47,48,48,49,50,\n",
    "     51,52,53,54,55,55,56,57,58,60,\n",
    "     61,63,64,65,66,68,70,71,72,74,\n",
    "     75,77,81,83,84,87,89,90,90,91\n",
    "     ]\n",
    "\n",
    "plt.hist(x, bins=10)\n",
    "plt.show()"
   ]
  },
  {
   "cell_type": "code",
   "execution_count": null,
   "id": "a350b272",
   "metadata": {},
   "outputs": [],
   "source": [
    "from scipy.stats import chi2_contingency \n",
    " \n",
    "info = [[100, 200, 300], [50, 60, 70]] \n",
    "print(info)\n",
    "stat, p, dof= chi2_contingency(info) "
   ]
  },
  {
   "cell_type": "code",
   "execution_count": 4,
   "id": "32bfabd4",
   "metadata": {},
   "outputs": [],
   "source": [
    "pro = df[df['opinion_community'] == 1]\n",
    "anti = df[df['opinion_community'] == 0]"
   ]
  },
  {
   "cell_type": "code",
   "execution_count": 7,
   "id": "68b86d0a",
   "metadata": {},
   "outputs": [
    {
     "data": {
      "text/plain": [
       "(95900409.00000028,\n",
       " 0.2725652156920494,\n",
       " 95892030,\n",
       " array([[0.00010001, 0.00010001, 0.00010001, ..., 0.00010001, 0.00010001,\n",
       "         0.00010001],\n",
       "        [0.00010001, 0.00010001, 0.00010001, ..., 0.00010001, 0.00010001,\n",
       "         0.00010001],\n",
       "        [0.00010001, 0.00010001, 0.00010001, ..., 0.00010001, 0.00010001,\n",
       "         0.00010001],\n",
       "        ...,\n",
       "        [0.00010001, 0.00010001, 0.00010001, ..., 0.00010001, 0.00010001,\n",
       "         0.00010001],\n",
       "        [0.00010001, 0.00010001, 0.00010001, ..., 0.00010001, 0.00010001,\n",
       "         0.00010001],\n",
       "        [0.00010001, 0.00010001, 0.00010001, ..., 0.00010001, 0.00010001,\n",
       "         0.00010001]]))"
      ]
     },
     "execution_count": 7,
     "metadata": {},
     "output_type": "execute_result"
    }
   ],
   "source": [
    "crosstab = pd.crosstab(pro['avg_toxicity'][1:10000], pro['avg_severe_toxicity'][1:10000])\n",
    "stats.chi2_contingency(crosstab)"
   ]
  },
  {
   "cell_type": "code",
   "execution_count": null,
   "id": "e6ad45d2",
   "metadata": {},
   "outputs": [],
   "source": []
  },
  {
   "cell_type": "code",
   "execution_count": null,
   "id": "8d0fbd42",
   "metadata": {},
   "outputs": [],
   "source": []
  }
 ],
 "metadata": {
  "kernelspec": {
   "display_name": "Python 3 (ipykernel)",
   "language": "python",
   "name": "python3"
  },
  "language_info": {
   "codemirror_mode": {
    "name": "ipython",
    "version": 3
   },
   "file_extension": ".py",
   "mimetype": "text/x-python",
   "name": "python",
   "nbconvert_exporter": "python",
   "pygments_lexer": "ipython3",
   "version": "3.9.7"
  }
 },
 "nbformat": 4,
 "nbformat_minor": 5
}
